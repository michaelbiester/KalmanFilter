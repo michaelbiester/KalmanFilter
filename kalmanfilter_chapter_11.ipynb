{
 "cells": [
  {
   "cell_type": "markdown",
   "id": "f1996c73-3d35-4c0f-9f88-2673e2529e3c",
   "metadata": {},
   "source": [
    "# Learning about Kalman filter / Background \n",
    "\n",
    "**Resources**\n",
    "\n",
    "`Kalman Filter from Ground Up`; author Alex Becker; https://www.kalmanfilter.net\n",
    "\n",
    "**Overview**\n",
    "\n",
    "background infos from chapter 11\n",
    "\n",
    "(as a preparation for nonlinear versions of the Kalman filter)\n",
    "\n",
    "---"
   ]
  },
  {
   "cell_type": "markdown",
   "id": "f9e155a1-d800-4858-a391-9b6c049d5f9e",
   "metadata": {},
   "source": [
    "## Square Root of a Matrix\n",
    "\n",
    "If a matrix $\\mathbf{A}$ can be written as a product of two identical matrices $\\mathbf{B}$\n",
    "\n",
    "$$\n",
    "\\mathbf{A} = \\mathbf{B} \\cdot \\mathbf{B}\n",
    "$$\n",
    "\n",
    "matrix $\\mathbf{B}$ is called the square root of matrix $\\mathbf{A}$.\n",
    "\n",
    "The conditions on matrix $\\mathbf{A}$ to make this possible will be explored later. But it is clear that the root is not a unique matrix.\n",
    "If matrix $\\mathbf{B}$ is a root of $\\mathbf{A}$ then $-\\mathbf{B}$ is also a root.\n",
    "\n",
    "Obviously $\\mathbf{A}$ and $\\mathbf{B}$ must be square matrices with the same number of rows / columns.\n",
    "\n",
    "\n",
    "---\n"
   ]
  },
  {
   "cell_type": "markdown",
   "id": "0f98adac-6f55-45e3-a593-c82844d1a069",
   "metadata": {},
   "source": [
    "## Special case: Square Root of Symmetric Matrix\n",
    "\n",
    "If matrix $\\mathbf{A} = \\mathbf{A}^T;\\ \\in \\mathbb{R}^{n \\times n}$ then there exists the decomposition\n",
    "\n",
    "$$\n",
    "\\mathbf{A} = \\mathbf{U} \\cdot \\mathbf{D} \\cdot \\mathbf{U}^T\n",
    "$$\n",
    "\n",
    "This follows by applying the `singular value` decomposition to a symmetric matrix.\n",
    "\n",
    "$\\mathbf{U};\\ \\in \\mathbb{R}^{n \\times n}$ has orthonormal column vectors.\n",
    "\n",
    "$\\mathbf{D}; \\in \\mathbb{R}^{n \\times n}$ is a diagonal matrix. The elements of the main diagonal are $\\ge 0$.\n",
    "\n",
    "Accordingly we have:\n",
    "\n",
    "$$\n",
    "\\mathbf{U}^T \\cdot \\mathbf{U} = \\mathbf{I}\n",
    "$$\n",
    "\n",
    "We now decompose diagonal matrix $\\mathbf{D}$ into a product of two identical matrices denoted $\\mathbf{D}^{1/2}$. \n",
    "\n",
    "$$\n",
    "\\mathbf{D} = \\mathbf{D}^{1/2} \\cdot \\mathbf{D}^{1/2}\n",
    "$$\n",
    "\n",
    "For the root $\\mathbf{A}^{1/2}$ of matrix $\\mathbf{A}$ we get:\n",
    "\n",
    "$$\n",
    "\\mathbf{A}^{1/2} = \\mathbf{U} \\cdot \\mathbf{D}^{1/2} \\cdot \\mathbf{U}^T \n",
    "$$\n",
    "\n",
    "**proof**\n",
    "\n",
    "$$\\begin{align}\n",
    "\\mathbf{A}^{1/2} \\cdot \\mathbf{A}^{1/2} &= \\mathbf{U} \\cdot \\mathbf{D}^{1/2} \\cdot \\mathbf{U}^T \\cdot \\mathbf{U} \\cdot \\mathbf{D}^{1/2} \\cdot \\mathbf{U}^T \\\\\n",
    "&= \\mathbf{U} \\cdot \\mathbf{D}^{1/2} \\cdot \\underbrace{\\left(\\mathbf{U}^T \\cdot \\mathbf{U}\\right)}_{\\mathbf{I}} \\cdot \\mathbf{D}^{1/2} \\cdot \\mathbf{U}^T \\\\\n",
    "&= \\mathbf{U} \\cdot \\mathbf{D}^{1/2} \\cdot \\mathbf{D}^{1/2} \\cdot \\mathbf{U}^T \\\\\n",
    "&= \\mathbf{U} \\cdot \\mathbf{D} \\cdot \\mathbf{U}^T \\\\\n",
    "&= \\mathbf{A}\n",
    "\\end{align}\n",
    "$$\n",
    "\n",
    "From the equation $\\mathbf{A}^{1/2} = \\mathbf{U} \\cdot \\mathbf{D}^{1/2} \\cdot \\mathbf{U}^T$ we can show the symmetry of the square root matrix $\\mathbf{A}^{1/2}$:\n",
    "\n",
    "$$\\begin{align}\n",
    "\\left(\\mathbf{A}^{1/2}\\right)^T &= \\left(\\mathbf{U} \\cdot \\mathbf{D}^{1/2} \\cdot \\mathbf{U}^T \\right)^T \\\\\n",
    "&= \\mathbf{U} \\cdot \\left( \\mathbf{U} \\cdot \\mathbf{D}^{1/2} \\right)^T \\\\\n",
    "&= \\mathbf{U} \\cdot \\left(\\mathbf{D}^{1/2} \\right)^T \\cdot \\mathbf{U}^T \\\\\n",
    "&= \\mathbf{U} \\cdot \\mathbf{D}^{1/2} \\cdot \\mathbf{U}^T \\\\\n",
    "\\left(\\mathbf{A}^{1/2}\\right)^T &= \\mathbf{A}^{1/2}\n",
    "\\end{align}\n",
    "$$"
   ]
  },
  {
   "cell_type": "markdown",
   "id": "7ff88dfe-77e1-43b3-ab6e-7329ccadff1a",
   "metadata": {},
   "source": [
    "## Cholesky Decomposition\n",
    "\n",
    "If matrix $\\mathbf{A}$ is positive definite than $\\mathbf{A}$ can be decomposed into the product of a lower and upper triangular matrices.\n",
    "\n",
    "$$\n",
    "\\mathbf{A} = \\mathbf{L} \\cdot \\mathbf{L}^T\n",
    "$$\n",
    "\n",
    "$\\mathbf{L}$ is a lower triangular square matrix. An example is shown here:\n",
    "\n",
    "$$\n",
    "\\mathbf{L} = \\left[\\begin{array}{cccc}\n",
    "l_{1,1} & 0 & 0 & 0 \\\\\n",
    "l_{2,1} & l_{2,2} & 0 & 0 \\\\\n",
    "l_{3,1} & l_{3,2} & l_{3,3} & 0 \\\\\n",
    "l_{4,1} & l_{4,2} & l_{4,3} & l_{4,4}\n",
    "\\end{array}\\right]\n",
    "$$"
   ]
  },
  {
   "cell_type": "code",
   "execution_count": null,
   "id": "80958f3d-0805-4c06-b148-2c36e0ae97a3",
   "metadata": {},
   "outputs": [],
   "source": []
  },
  {
   "cell_type": "code",
   "execution_count": 2,
   "id": "1d5c296c-af1c-44d6-8c4e-86b9f23361e6",
   "metadata": {},
   "outputs": [
    {
     "name": "stdout",
     "output_type": "stream",
     "text": [
      "(Amat :\n",
      "[[  9  -6   3  24]\n",
      " [ -6  20 -22  -4]\n",
      " [  3 -22  30  -9]\n",
      " [ 24  -4  -9  99]]\n",
      "\n",
      "(Lmat :\n",
      "[[ 3.  0.  0.  0.]\n",
      " [-2.  4.  0.  0.]\n",
      " [ 1. -5.  2.  0.]\n",
      " [ 8.  3. -1.  5.]]\n",
      "\n",
      "(Lmat @ Lmat.T :\n",
      "[[  9.  -6.   3.  24.]\n",
      " [ -6.  20. -22.  -4.]\n",
      " [  3. -22.  30.  -9.]\n",
      " [ 24.  -4.  -9.  99.]]\n",
      "\n"
     ]
    }
   ],
   "source": [
    "# numerical example of Cholesky decomposition\n",
    "\n",
    "import numpy as np\n",
    "\n",
    "Amat = np. array ([[9 , -6, 3, 24] , [-6, 20, -22, -4], [3, -22, 30, -9], [24 ,\n",
    "-4, -9, 99]])\n",
    "\n",
    "# decomposition\n",
    "Lmat = np.linalg.cholesky(Amat)\n",
    "\n",
    "\n",
    "print(f\"(Amat :\\n{Amat}\\n\")\n",
    "print(f\"(Lmat :\\n{Lmat}\\n\")\n",
    "print(f\"(Lmat @ Lmat.T :\\n{Lmat @ Lmat.T}\\n\")"
   ]
  },
  {
   "cell_type": "code",
   "execution_count": null,
   "id": "4cbe140c-c4a5-4b0f-af91-f8fa7879462e",
   "metadata": {},
   "outputs": [],
   "source": []
  }
 ],
 "metadata": {
  "kernelspec": {
   "display_name": "Python 3 (ipykernel)",
   "language": "python",
   "name": "python3"
  },
  "language_info": {
   "codemirror_mode": {
    "name": "ipython",
    "version": 3
   },
   "file_extension": ".py",
   "mimetype": "text/x-python",
   "name": "python",
   "nbconvert_exporter": "python",
   "pygments_lexer": "ipython3",
   "version": "3.11.5"
  }
 },
 "nbformat": 4,
 "nbformat_minor": 5
}
