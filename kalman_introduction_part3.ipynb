{
 "cells": [
  {
   "cell_type": "markdown",
   "id": "5091e793-6e29-4cdb-bfc7-cc4614f8a51a",
   "metadata": {},
   "source": [
    "# Kalman Filtering / Part 3\n",
    "\n",
    "This notebook is based on the article\n",
    "\n",
    "`An Elementary Introduction to Kalman Filtering`  , authors: Yan Pei, Donald S. Fussel, Swarnendu Biswas, Keshav Pingali\n",
    "\n",
    "I tried to reproduce most parts of the article:\n",
    "\n",
    "The notebook documents intermediate steps (missing in the article for brevity) which I have found necessary for my understanding."
   ]
  },
  {
   "cell_type": "markdown",
   "id": "2c17c310-6b49-44b4-948d-0c94703acaa8",
   "metadata": {},
   "source": [
    "## State evolution equations\n",
    "\n",
    "$$\n",
    "\\mathbf{x}_{t+1|t} = \\mathbf{F} \\cdot \\mathbf{x}_{t|t} + \\mathbf{B} \\cdot \\mathbf{u}_t + \\mathbf{w}_t\n",
    "$$\n",
    "\n",
    "Subscript $t$ denotes the time step.\n",
    "\n",
    "$\\mathbf{x}_{t|t}$ is the estimate at time instant `t` given the information available at time step `t`.\n",
    "\n",
    "$\\mathbf{x}_{t+1|t}$ is the updated estimate at time instant `t+1` given the information available at time step `t`. $\\mathbf{u}_t$ is the input at time step `t` and $\\mathbf{w}_t$ denotes noise contribution.\n",
    "\n",
    "\n",
    "**mean of $\\mathbf{x}_{t+1|t}$**\n",
    "\n",
    "$$\\begin{align}\n",
    "E\\left(\\mathbf{x}_{t+1|t}\\right) &= \\mathbf{F} \\cdot E\\left(\\mathbf{x}_{t|t}\\right) + \\mathbf{B} \\cdot \\mathbf{u}_t + E\\left(\\mathbf{w}_t\\right) \\\\\n",
    " &= \\mathbf{F} \\cdot E\\left(\\mathbf{x}_{t|t}\\right) + \\mathbf{B} \\cdot \\mathbf{u}_t \n",
    "\\end{align}\n",
    "$$\n",
    "\n",
    "**covariance of $\\mathbf{x}_{t+1|t}$**\n",
    "\n",
    "$$\\begin{align}\n",
    "E\\left( \\left(\\mathbf{x}_{t+1|t} - E\\left(\\mathbf{x}_{t+1|t}\\right) \\right) \\cdot \\left(\\mathbf{x}_{t+1|t} - E\\left(\\mathbf{x}_{t+1|t} \\right)\\right)^T \\right) &= E\\left( \\left(\\mathbf{F} \\cdot \\left(\\mathbf{x}_{t|t} - E\\left(\\mathbf{x}_{t|t}\\right) \\right) + \\mathbf{w}_t\\right) \\cdot \\left(\\mathbf{F} \\cdot \\left(\\mathbf{x}_{t|t} - E\\left(\\mathbf{x}_{t|t}\\right) \\right) + \\mathbf{w}_t\\right)^T \\right) \\\\\n",
    "&= \\mathbf{F} \\cdot \\mathbf{\\Sigma}_{x: t|t} \\cdot \\mathbf{F}^T + \\mathbf{Q}_t\n",
    "\\end{align}\n",
    "$$\n",
    "\n",
    "In this equation $\\mathbf{Q}_t$ denotes the covariance matrix of noise vector $\\mathbf{w}_t$.\n",
    "\n",
    "\n",
    "\n",
    "---\n"
   ]
  },
  {
   "cell_type": "code",
   "execution_count": null,
   "id": "af65817b-e51e-4bea-a449-a5b693db3f76",
   "metadata": {},
   "outputs": [],
   "source": []
  },
  {
   "cell_type": "code",
   "execution_count": null,
   "id": "68c4da1a-cf8a-4d86-8fef-2147251c124d",
   "metadata": {},
   "outputs": [],
   "source": []
  }
 ],
 "metadata": {
  "kernelspec": {
   "display_name": "Python 3 (ipykernel)",
   "language": "python",
   "name": "python3"
  },
  "language_info": {
   "codemirror_mode": {
    "name": "ipython",
    "version": 3
   },
   "file_extension": ".py",
   "mimetype": "text/x-python",
   "name": "python",
   "nbconvert_exporter": "python",
   "pygments_lexer": "ipython3",
   "version": "3.11.5"
  }
 },
 "nbformat": 4,
 "nbformat_minor": 5
}
